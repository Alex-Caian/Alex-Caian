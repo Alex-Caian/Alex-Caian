{
 "cells": [
  {
   "cell_type": "markdown",
   "id": "68dbe38b",
   "metadata": {},
   "source": [
    "Week One: 20%\n",
    "\n",
    "- Assessment - Programming in Python (10%)\n",
    "\n",
    "- Assessment - Turtle Graphics (10%)\n",
    "\n",
    "Week Two: 20%\n",
    "\n",
    "- Assessment - Lists and Strings (10%)\n",
    "\n",
    "- Assignment - Week Two (10%)\n",
    "\n",
    "Week Three: 10%\n",
    "\n",
    "- Assessment - Week Three (10%)\n",
    "\n",
    "Week Four: 50%\n",
    "\n",
    "- Assessment - Sequence Mutation (7.5%)\n",
    "\n",
    "- Assessment - Methods: Lists and Strings (7.5%)\n",
    "\n",
    "- Assessment - Accumulating Lists and Strings (7.5%)\n",
    "\n",
    "- Assessment - Way of the Programmer Week Four (7.5%)\n",
    "\n",
    "- Assignment - Final course assignment (20%)"
   ]
  },
  {
   "cell_type": "markdown",
   "id": "a5219a6f",
   "metadata": {},
   "source": [
    "### Week 1\n",
    "\n",
    "_Note: I only keep notes of things I didn't know, or needed refershing on._"
   ]
  },
  {
   "cell_type": "markdown",
   "id": "dfd1ca3f",
   "metadata": {},
   "source": [
    "- The operand ' ** ' represents exponential, unlike R/C++ which use ' ^ '"
   ]
  },
  {
   "cell_type": "code",
   "execution_count": 7,
   "id": "6f7a7991",
   "metadata": {},
   "outputs": [
    {
     "name": "stdout",
     "output_type": "stream",
     "text": [
      "The following is 16: 16\n",
      "\n",
      "\n",
      "The following is NOT 16: 6\n"
     ]
    }
   ],
   "source": [
    "print(\"The following is 16:\", 4**2)\n",
    "print(\"\\n\")\n",
    "print(\"The following is NOT 16:\", 4^2)"
   ]
  },
  {
   "cell_type": "markdown",
   "id": "9d46e698",
   "metadata": {},
   "source": [
    "- The operand ' \\\\ ' functionally acts like the FUN round() (minus 1, since it TRUNCATES rather than ROUNDING) from R:"
   ]
  },
  {
   "cell_type": "code",
   "execution_count": 9,
   "id": "3705f06d",
   "metadata": {},
   "outputs": [
    {
     "name": "stdout",
     "output_type": "stream",
     "text": [
      "0.5555555555555556\n",
      "\n",
      "\n",
      "0\n"
     ]
    }
   ],
   "source": [
    "print(5/9)\n",
    "print(\"\\n\")\n",
    "print(5//9)"
   ]
  },
  {
   "cell_type": "markdown",
   "id": "cb163663",
   "metadata": {},
   "source": [
    "- Order of operations goes from RIGHT to LEFT:"
   ]
  },
  {
   "cell_type": "code",
   "execution_count": 12,
   "id": "d0e54300",
   "metadata": {},
   "outputs": [
    {
     "name": "stdout",
     "output_type": "stream",
     "text": [
      "512\n",
      "\n",
      "\n",
      "64\n"
     ]
    }
   ],
   "source": [
    "print(2 ** 3 ** 2)     # the right-most ** operator gets done first!\n",
    "print(\"\\n\")\n",
    "print((2 ** 3) ** 2)   # use parentheses to force the order you want!"
   ]
  },
  {
   "cell_type": "markdown",
   "id": "d662b3b1",
   "metadata": {},
   "source": [
    "- Short review into how functions are defined:\n",
    "\n",
    "    Note: ' {} ' **do NOT** work in Python, unlike R."
   ]
  },
  {
   "cell_type": "code",
   "execution_count": 18,
   "id": "1ed1fe92",
   "metadata": {},
   "outputs": [],
   "source": [
    "def square(x):\n",
    "    y = x**2\n",
    "    print(y)"
   ]
  },
  {
   "cell_type": "code",
   "execution_count": 20,
   "id": "7bbf4cda",
   "metadata": {},
   "outputs": [
    {
     "name": "stdout",
     "output_type": "stream",
     "text": [
      "25\n"
     ]
    }
   ],
   "source": [
    "square(5)"
   ]
  },
  {
   "cell_type": "markdown",
   "id": "90bfa892",
   "metadata": {},
   "source": [
    "- The function type() in Python is the same FUN as class() in R:"
   ]
  },
  {
   "cell_type": "code",
   "execution_count": 22,
   "id": "6eba0668",
   "metadata": {},
   "outputs": [
    {
     "name": "stdout",
     "output_type": "stream",
     "text": [
      "<class 'int'>\n",
      "<class 'float'>\n",
      "<class 'str'>\n"
     ]
    }
   ],
   "source": [
    "print(type(5))\n",
    "print(type(5.0))\n",
    "print(type(\"Hi!\"))"
   ]
  },
  {
   "cell_type": "markdown",
   "id": "977b368a",
   "metadata": {},
   "source": [
    "- Rather than using as.class calls like in R, in Python it suffices to mention the class to convert, without the 'as.' indicator:"
   ]
  },
  {
   "cell_type": "code",
   "execution_count": 33,
   "id": "000a233b",
   "metadata": {},
   "outputs": [
    {
     "name": "stdout",
     "output_type": "stream",
     "text": [
      "5 \n",
      " 5.2 \n",
      " 112.55\n"
     ]
    }
   ],
   "source": [
    "x = int(5.20)\n",
    "y = 5.20\n",
    "\n",
    "print(x, \"\\n\" ,y, \"\\n\", float(\"112.55\"))"
   ]
  },
  {
   "cell_type": "markdown",
   "id": "17610d83",
   "metadata": {},
   "source": [
    "- You can also print statements using the '+' indicator, much like R:"
   ]
  },
  {
   "cell_type": "code",
   "execution_count": 32,
   "id": "96d482de",
   "metadata": {},
   "outputs": [
    {
     "name": "stdout",
     "output_type": "stream",
     "text": [
      "I am learning Python, but I prefer R.\n"
     ]
    }
   ],
   "source": [
    "print(\"I am\" + \" learning Python\" + \", but I prefer R.\")"
   ]
  },
  {
   "cell_type": "markdown",
   "id": "8b262f5a",
   "metadata": {},
   "source": [
    "- Interestingly, pi is not a constant in Python:"
   ]
  },
  {
   "cell_type": "code",
   "execution_count": 38,
   "id": "94ba6ec9",
   "metadata": {},
   "outputs": [],
   "source": [
    "# print(pi)"
   ]
  },
  {
   "cell_type": "markdown",
   "id": "d81afc55",
   "metadata": {},
   "source": [
    "- The following list describes a set of Python keywords. Explanations are provided where necessary:"
   ]
  },
  {
   "cell_type": "markdown",
   "id": "1f038798",
   "metadata": {},
   "source": [
    "**and**\n",
    "\n",
    "**as**\n",
    "\n",
    "**assert** : used to continue the execute if the given condition evaluates to True. If the assert condition evaluates to False, then it raises the AssertionError exception with the specified error message.\n",
    "\n",
    "**break** :  stops the loop in which the statement is placed (like R)\n",
    "\n",
    "**class** : a user-defined blueprint or prototype from which objects are created. Classes provide a means of bundling data and functionality together. Creating a new class creates a new type of object, allowing new instances of that type to be made.\n",
    "\n",
    "**continue** : returns the control to the beginning of the while loop. The continue statement rejects all the remaining statements in the current iteration of the loop and moves the control back to the top of the loop. The continue statement can be used in both while and for loops.\n",
    "\n",
    "**def** : function defining\n",
    "\n",
    "**del** : The del keyword in python is primarily used to delete objects in Python. Since everything in python represents an object in one way or another, The del keyword can also be used to delete a list, slice a list, delete a dictionaries, remove key-value pairs from a dictionary, delete variables, etc.\n",
    "\n",
    "**elif** : Functionally 'elseif' from R\n",
    "\n",
    "**else**\n",
    "\n",
    "**except** : Adds exception \n",
    "\n",
    "**exec** : exec() function is used for the dynamic execution of Python program which can either be a string or object code. If it is a string, the string is parsed as a suite of Python statements which is then executed unless a syntax error occurs and if it is an object code, it is simply executed.\n",
    "\n",
    "**finally** : Python provides a keyword finally, which is always executed after try and except blocks. The finally block always executes after normal termination of try block or after try block terminates due to some exception.\n",
    "\n",
    "**for**\n",
    "\n",
    "**from** : The from keyword is used to import only a specified section from a module.\n",
    "\n",
    "**global** : Global keyword is a keyword that allows a user to modify a variable outside of the current scope. It is used to create global variables from a non-global scope i.e inside a function.\n",
    "\n",
    "**if**\n",
    "\n",
    "**import**\n",
    "\n",
    "**in**\n",
    "\n",
    "**is**\n",
    "\n",
    "**lambda** : Syntax. Simply put, a lambda function is just like any normal python function, except that it has no name when defining it, and it is contained in one line of code. A lambda function evaluates an expression for a given argument. You give the function a value (argument) and then provide the operation (expression).\n",
    "\n",
    "**nonlocal** : The nonlocal keyword is used to work with variables inside nested functions, where the variable should not belong to the inner function. Use the keyword nonlocal to declare that the variable is not local.\n",
    "\n",
    "**not**\n",
    "\n",
    "**or**\n",
    "\n",
    "**pass** : The pass statement is a null statement. But the difference between pass and comment is that comment is ignored by the interpreter whereas pass is not ignored. The pass statement is generally used as a placeholder i.e. when the user does not know what code to write.\n",
    "\n",
    "**raise** : The Python interpreter raises an exception each time it detects an error in an expression or statement. Users can also raise exceptions with raise and assert statements. Raising exceptions. An exception is a object instance with a class that inherits, either directly or indirectly, from the BaseException class.\n",
    "\n",
    "**return**\n",
    "\n",
    "**try** : The try block lets you test a block of code for errors\n",
    "\n",
    "**while**\n",
    "\n",
    "**with** : with statement in Python is used in exception handling to make the code cleaner and much more readable. It simplifies the management of common resources like file streams.\n",
    "\n",
    "**yield** : The yield statement suspends function’s execution and sends a value back to the caller, but retains enough state to enable function to resume where it is left off. When resumed, the function continues execution immediately after the last yield run. This allows its code to produce a series of values over time, rather than computing them at once and sending them back like a list.\n",
    "\n",
    "**True**\n",
    "\n",
    "**False**\n",
    "\n",
    "**None**"
   ]
  },
  {
   "cell_type": "markdown",
   "id": "d5ffb5cd",
   "metadata": {},
   "source": [
    "- Here's how lambda() is used:"
   ]
  },
  {
   "cell_type": "code",
   "execution_count": 42,
   "id": "4bc36759",
   "metadata": {},
   "outputs": [
    {
     "data": {
      "text/plain": [
       "15"
      ]
     },
     "execution_count": 42,
     "metadata": {},
     "output_type": "execute_result"
    }
   ],
   "source": [
    "AddTen = lambda x : x+10      # ONLY for one-liners\n",
    "\n",
    "AddTen(5)"
   ]
  },
  {
   "cell_type": "markdown",
   "id": "49d963dd",
   "metadata": {},
   "source": [
    "- Python evaluates expressions from left to right, i.e. looks up the objects from the variables in the order as they are called."
   ]
  },
  {
   "cell_type": "markdown",
   "id": "18b54047",
   "metadata": {},
   "source": [
    "- Python uses shortcuts for assignment, which R does not understand. The following examples apply:"
   ]
  },
  {
   "cell_type": "code",
   "execution_count": 48,
   "id": "18269f22",
   "metadata": {},
   "outputs": [
    {
     "name": "stdout",
     "output_type": "stream",
     "text": [
      "8\n",
      "10\n",
      "8\n"
     ]
    }
   ],
   "source": [
    "x = 5\n",
    "x += 3       ## += for addition\n",
    "print(x)\n",
    "\n",
    "y = 8\n",
    "y -= -2      ## -= for subtraction\n",
    "print(y)\n",
    "\n",
    "z=2\n",
    "z **= 3      ## **= for exponential\n",
    "print(z)"
   ]
  },
  {
   "cell_type": "markdown",
   "id": "b4894b84",
   "metadata": {},
   "source": [
    "- The function input() is the equivalent of readline from R, with explicit prompt:\n",
    "\n",
    "    _Note: Much like R, input() always writes a string, regardless of whether you intended a num. Check beforehand._"
   ]
  },
  {
   "cell_type": "code",
   "execution_count": 57,
   "id": "902543a2",
   "metadata": {},
   "outputs": [
    {
     "name": "stdout",
     "output_type": "stream",
     "text": [
      "Pick a number between 1 and 10: 3\n",
      "The double of that is  6\n"
     ]
    }
   ],
   "source": [
    "n = int(input(\"Pick a number between 1 and 10: \"))\n",
    "print(\"The double of that is \", n*2)"
   ]
  },
  {
   "cell_type": "markdown",
   "id": "b1796682",
   "metadata": {},
   "source": [
    "- Dot (' . ') notations are representative of Python. These occur with imported libraries only. Things after the dot are called methods, and they preceed a value. For example, data.head()"
   ]
  },
  {
   "cell_type": "code",
   "execution_count": 1,
   "id": "c1b59cad",
   "metadata": {},
   "outputs": [],
   "source": [
    "# import turtle as trt\n",
    "\n",
    "# alex = trt.Screen()\n",
    "    ## Jupyter does not enjoy this secondary GUI."
   ]
  },
  {
   "cell_type": "markdown",
   "id": "cd7aa5af",
   "metadata": {},
   "source": [
    "- Objects can have instances in Python, which is what we understand as Something.SomethingElse\n",
    "\n",
    "\n",
    "- Instances themselves can have attributes or values, such as Instance.Instance = Value\n",
    "\n",
    "\n",
    "- Classes have associated methods. Methods are in all aspects similar to function calls, _except_ that the object instance itself is also passed as a parameter, unlike functions."
   ]
  },
  {
   "cell_type": "markdown",
   "id": "e8c41840",
   "metadata": {},
   "source": [
    "- In Python, you can use the range() function with just 1 parameter. For instance:"
   ]
  },
  {
   "cell_type": "code",
   "execution_count": 3,
   "id": "6c4ba38a",
   "metadata": {},
   "outputs": [
    {
     "name": "stdout",
     "output_type": "stream",
     "text": [
      "25\n",
      "625\n",
      "390625\n"
     ]
    }
   ],
   "source": [
    "n = 5\n",
    "for _ in range(3):\n",
    "    n **= 2\n",
    "    print(n)"
   ]
  },
  {
   "cell_type": "markdown",
   "id": "aa5fe2e7",
   "metadata": {},
   "source": [
    "Random fun code. DO NOT run in this env!"
   ]
  },
  {
   "cell_type": "code",
   "execution_count": 11,
   "id": "334de0b9",
   "metadata": {},
   "outputs": [],
   "source": [
    "## import turtle\n",
    "## import random \n",
    "\n",
    "# wn = turtle.Screen()\n",
    "\n",
    "# y = turtle.Turtle()\n",
    "\n",
    "# random.seed(5)\n",
    "# distance = random.randint(1,50)\n",
    "# i=1\n",
    "# for _ in range(15):\n",
    " #    y.forward(distance)\n",
    " #    y.left(random.randint(1,270))\n",
    " #    y.forward(distance)\n",
    " #    y.right(random.randint(1,270))\n",
    " #    y.forward(distance)\n",
    " #    random.seed(i)\n",
    " #    distance = random.randint(1,50)\n",
    " #    i += 1"
   ]
  },
  {
   "cell_type": "markdown",
   "id": "2af90ec0",
   "metadata": {},
   "source": [
    "**Important!** In the following example, we have:\n",
    "\n",
    "    Instance = Class.Method(Variable)\n",
    "\n",
    "    print(Class.Attribute)"
   ]
  },
  {
   "cell_type": "markdown",
   "id": "3321a6c2",
   "metadata": {},
   "source": [
    "- There are 3 types of errors: Syntax, Runtime and Semantic.\n",
    "\n",
    "**Syntax**\n",
    "\n",
    "    The statements just aren't well formed, the interpreter can't parse it. \n",
    "    \n",
    "    Error type: SyntaxError, NameError etc.\n",
    "    \n",
    "**Runtime**\n",
    "\n",
    "    Can parse the program, but during the running an illegal operation happens (eg. infinite loop)\n",
    "    \n",
    "    Error type: Either no error, or for eg ZeroDivisionError.\n",
    "    \n",
    "**Semantic**\n",
    "\n",
    "    Can parse, as well as can run, but doesn't do what the programmer intended.\n",
    "    \n",
    "    Error type: No error, unless warning set up."
   ]
  },
  {
   "cell_type": "markdown",
   "id": "db5d899c",
   "metadata": {},
   "source": [
    "- Nearly 90% of the error messages encountered for this problem are SyntaxError, TypeError, NameError, ValueError, or AttributeError."
   ]
  },
  {
   "cell_type": "markdown",
   "id": "7c1d5ec8",
   "metadata": {},
   "source": [
    "### Week 2"
   ]
  },
  {
   "cell_type": "markdown",
   "id": "b646ae6d",
   "metadata": {},
   "source": [
    "- Sequence = _Ordered_ collection of items, with a given length.\n",
    "\n",
    "    Lists = sequences of any types of values. Created using [], whereas strings are created using ''\n",
    "    \n",
    "    Strings = sequences of characters."
   ]
  },
  {
   "cell_type": "code",
   "execution_count": 2,
   "id": "c11ddf30",
   "metadata": {},
   "outputs": [
    {
     "name": "stdout",
     "output_type": "stream",
     "text": [
      "['Hi', 5, '17']\n"
     ]
    },
    {
     "data": {
      "text/plain": [
       "list"
      ]
     },
     "execution_count": 2,
     "metadata": {},
     "output_type": "execute_result"
    }
   ],
   "source": [
    "l = [\"Hi\", 5, \"17\"]\n",
    "print(l)\n",
    "type(l)"
   ]
  },
  {
   "cell_type": "markdown",
   "id": "5c915d3e",
   "metadata": {},
   "source": [
    "- Python also understands tuples, which use normal brackets () to define:"
   ]
  },
  {
   "cell_type": "code",
   "execution_count": 7,
   "id": "65153e4c",
   "metadata": {},
   "outputs": [
    {
     "name": "stdout",
     "output_type": "stream",
     "text": [
      "(5, 'Hi!', 18)\n"
     ]
    },
    {
     "data": {
      "text/plain": [
       "tuple"
      ]
     },
     "execution_count": 7,
     "metadata": {},
     "output_type": "execute_result"
    }
   ],
   "source": [
    "x = (5,\"Hi!\",18)\n",
    "print(x)\n",
    "type(x)"
   ]
  },
  {
   "cell_type": "markdown",
   "id": "164b0a27",
   "metadata": {},
   "source": [
    "- The main difference between **lists** and **tuples** is that lists are muttable (i.e. CAN be changed after creation, such as appending/deleting etc.), whereas tuples are immuttable (i.e. CANNOT be changed after creation)\n",
    "\n",
    "- To create single items tuple you add a comma at the end, eg. (100, ) rather than (100) -- which gets interpreted as an int instead."
   ]
  },
  {
   "cell_type": "markdown",
   "id": "b98710c8",
   "metadata": {},
   "source": [
    "- This is how indexing works in Python, which is 0 indexed:"
   ]
  },
  {
   "cell_type": "code",
   "execution_count": 9,
   "id": "33149d7c",
   "metadata": {},
   "outputs": [
    {
     "name": "stdout",
     "output_type": "stream",
     "text": [
      "y\n",
      "P\n",
      "o\n"
     ]
    }
   ],
   "source": [
    "s = \"Python\"\n",
    "print(s[1])\n",
    "print(s[0])\n",
    "print(s[-2])    # Unlike R, this counts backwards rather than removing."
   ]
  },
  {
   "cell_type": "markdown",
   "id": "941d5111",
   "metadata": {},
   "source": [
    "- To slice indexing in python, just like R, we use ':' as follows:"
   ]
  },
  {
   "cell_type": "code",
   "execution_count": 13,
   "id": "d6cb0a58",
   "metadata": {},
   "outputs": [
    {
     "name": "stdout",
     "output_type": "stream",
     "text": [
      "9 \n",
      "\n",
      "['Hi', 1000]\n",
      "[1, 0, 'Zero']\n"
     ]
    }
   ],
   "source": [
    "Lst = [\"Hi\", 1000, 999, 998, \"Bye\", \"StillGoing\", 1, 0, \"Zero\"]\n",
    "print(len(Lst), \"\\n\")\n",
    "\n",
    "l1 = Lst[:2]    ## Print everything UP to, and NOT including index 2. That is, 2 elements = 2-0.\n",
    "l2 = Lst[6:]    ## Print everything FROM, AND including index 6. That is, 3 elements = 9-6.\n",
    "\n",
    "print(l1)\n",
    "print(l2)"
   ]
  },
  {
   "cell_type": "markdown",
   "id": "f8a307bc",
   "metadata": {},
   "source": [
    "- In Python, as a general rule, start index IS included whereas end index is NOT included. For instance, for x[n:(n+k)] will include x[n] and will _not_ include x[n+k]."
   ]
  },
  {
   "cell_type": "markdown",
   "id": "ea427e00",
   "metadata": {},
   "source": [
    "- Repetition in python is treated like any usual operation:"
   ]
  },
  {
   "cell_type": "code",
   "execution_count": 14,
   "id": "c043b74f",
   "metadata": {},
   "outputs": [
    {
     "name": "stdout",
     "output_type": "stream",
     "text": [
      "[0, 1, 3, 0, 1, 3, 0, 1, 3]\n"
     ]
    }
   ],
   "source": [
    "l = [0,1,3]\n",
    "lst = l * 3\n",
    "print(lst)"
   ]
  },
  {
   "cell_type": "markdown",
   "id": "c83fdb45",
   "metadata": {},
   "source": [
    "- Python offers a method for counting how many times a given character or sequence of characters features in a string/list. This is much like the count() function from R. It uses the dot method as follows:"
   ]
  },
  {
   "cell_type": "code",
   "execution_count": 18,
   "id": "c6cce24b",
   "metadata": {},
   "outputs": [
    {
     "name": "stdout",
     "output_type": "stream",
     "text": [
      "4\n",
      "1\n",
      "1\n"
     ]
    }
   ],
   "source": [
    "a = \"Banananana\"\n",
    "print(a.count(\"na\"))   ## We have 4 occurences of 'na' in a.\n",
    "\n",
    "l = [\"A\", \"BA\", \"CA\", \"DA\"]\n",
    "print(l.count(\"A\"))   ## The element 'A' only appears once in the list.\n",
    "print(l.count(\"BA\"))  ## Same for element 'BA'"
   ]
  },
  {
   "cell_type": "markdown",
   "id": "473eefcc",
   "metadata": {},
   "source": [
    "- Python can also detect where a particular character features in a string/list using indexing:"
   ]
  },
  {
   "cell_type": "code",
   "execution_count": 27,
   "id": "6a3146ec",
   "metadata": {},
   "outputs": [
    {
     "name": "stdout",
     "output_type": "stream",
     "text": [
      "2 \n",
      "\n",
      "15 \n",
      "\n",
      "2\n"
     ]
    }
   ],
   "source": [
    "M = \"I must muster the master of mustard\"\n",
    "print(M.index(\"m\"), \"\\n\")   ## It prints the FIRST (leftmost) occurence of the character 'm' in the string M.\n",
    "print(M.index(\"he\"), \"\\n\")  ## Prints the first (leftmost) occurence of the FIRST character in the sequence of characters mentioned, i.e. 'h'.\n",
    "\n",
    "L = [\"Hi\", \"Hi\", \"Bye\", [], [[[]]], 0]\n",
    "print(L.index(\"Bye\"))  ## It occurs on the 3rd spot, hence the 2nd index by 0-indexing.\n",
    "# print(L.index([[]])) ## This is NOT in the list."
   ]
  },
  {
   "cell_type": "markdown",
   "id": "3503ed89",
   "metadata": {},
   "source": [
    "- If the indexed element is not in the list, we return an error. If the counted element is not in the list, we return zero (0)."
   ]
  },
  {
   "cell_type": "code",
   "execution_count": 28,
   "id": "8161841d",
   "metadata": {},
   "outputs": [
    {
     "name": "stdout",
     "output_type": "stream",
     "text": [
      "0\n"
     ]
    }
   ],
   "source": [
    "w = [\"Hi\", \"Hi\", \"Hii!!\"]\n",
    "print(w.count(\"Bye!\"))"
   ]
  },
  {
   "cell_type": "markdown",
   "id": "2a131b29",
   "metadata": {},
   "source": [
    "- Python's split() function (using under the dot method) reacts much better than R's variant, virtually splitting strings by words/characters or denoted pattern, much like gsub/grep etc. in R:"
   ]
  },
  {
   "cell_type": "code",
   "execution_count": 36,
   "id": "b6eca2e7",
   "metadata": {},
   "outputs": [
    {
     "name": "stdout",
     "output_type": "stream",
     "text": [
      "['I', 'was', 'once', 'a', 'man,', 'now', \"I'm\", 'dead', 'inside.']\n",
      "9\n",
      "\n",
      "\n",
      "\n",
      "['I was once a man', \" now I'm dead inside.\"]\n",
      "2\n"
     ]
    }
   ],
   "source": [
    "w = \"I was once a man, now I'm dead inside.\"\n",
    "w_split = w.split()  ## Separation is done by blanks. We can also do it by commas rather.\n",
    "print(w_split)\n",
    "print(len(w_split))\n",
    "print(\"\\n\\n\")\n",
    "w_com = w.split(\",\")\n",
    "print(w_com)\n",
    "print(len(w_com))"
   ]
  },
  {
   "cell_type": "markdown",
   "id": "dd834fe2",
   "metadata": {},
   "source": [
    "- The counterpart of split() is join(), which acts like join/merge in R:"
   ]
  },
  {
   "cell_type": "code",
   "execution_count": 39,
   "id": "d745f449",
   "metadata": {},
   "outputs": [
    {
     "name": "stdout",
     "output_type": "stream",
     "text": [
      "Me,Myself,I\n",
      "Apples Bananas Melons\n"
     ]
    }
   ],
   "source": [
    "print(\",\".join(['Me', 'Myself', 'I']))  ## Join the words using a comma\n",
    "\n",
    "glue = \" \"\n",
    "lst = [\"Apples\", \"Bananas\", \"Melons\"]\n",
    "print(glue.join(lst))"
   ]
  },
  {
   "cell_type": "markdown",
   "id": "e4332d8e",
   "metadata": {},
   "source": [
    "- Python uses the range() FUN for virtually any listing. The R equivalent is often simple arrays by c()"
   ]
  },
  {
   "cell_type": "code",
   "execution_count": 40,
   "id": "facdc03f",
   "metadata": {},
   "outputs": [
    {
     "name": "stdout",
     "output_type": "stream",
     "text": [
      "[0, 1, 2, 3, 4]\n"
     ]
    }
   ],
   "source": [
    "print(list(range(5)))"
   ]
  },
  {
   "cell_type": "markdown",
   "id": "9d9a12aa",
   "metadata": {},
   "source": [
    "- **Iterable** = What we are iterating through.\n",
    "\n",
    "- **Iterator** = What is being iterated.\n",
    "\n",
    "\n",
    "Eg: For Iterator in Iterable:"
   ]
  },
  {
   "cell_type": "markdown",
   "id": "68aca081",
   "metadata": {},
   "source": [
    "Even more fun had at the expense of turtles. Again, _DO NOT_ run this code within the Jupyter GUI, it doesn't quite like it."
   ]
  },
  {
   "cell_type": "code",
   "execution_count": null,
   "id": "18eebdf3",
   "metadata": {},
   "outputs": [],
   "source": [
    "import turtle\n",
    "import random\n",
    "wn = turtle.Screen()\n",
    "# wn.bgcolor(\"blue\")\n",
    "lst = ['blue', 'red', 'pink', 'orange', 'black', 'white', 'brown', 'grey', 'purple', 'violet', 'green']\n",
    "alex=turtle.Turtle()\n",
    "alex.color(\"red\")\n",
    "alex.shape('turtle')\n",
    "\n",
    "alex.speed(9)\n",
    "\n",
    "dist = random.randrange(20)\n",
    "angle = random.randrange(361)\n",
    "times = random.randrange(20)\n",
    "\n",
    "for i in range(80):\n",
    "    j = random.randrange(len(lst))\n",
    "    alex.color(lst[j])\n",
    "    wn.bgcolor(lst[2*j%len(lst)])\n",
    "    alex.stamp()\n",
    "    alex.penup()\n",
    "    alex.forward(dist)\n",
    "    alex.left(angle)\n",
    "    alex.forward(dist)\n",
    "    dist = random.randrange(60)\n",
    "    angle = random.randrange(361)"
   ]
  },
  {
   "cell_type": "markdown",
   "id": "ce097b59",
   "metadata": {},
   "source": [
    "### Week 3"
   ]
  },
  {
   "cell_type": "markdown",
   "id": "83fad63e",
   "metadata": {},
   "source": [
    "- Like R, Python has 2 booleans, written as 'True' or 'False'\n",
    "\n",
    "These can determine the truthiness state of comparisons/equations:"
   ]
  },
  {
   "cell_type": "code",
   "execution_count": 17,
   "id": "1045c584",
   "metadata": {},
   "outputs": [
    {
     "name": "stdout",
     "output_type": "stream",
     "text": [
      "<class 'bool'>\n",
      "False\n",
      "True\n",
      "True\n"
     ]
    }
   ],
   "source": [
    "print(type(True))\n",
    "print(5==6)\n",
    "print(type(\"Alice\") is str )\n",
    "print(type(\"Alice\") == str )"
   ]
  },
  {
   "cell_type": "markdown",
   "id": "d9488bbf",
   "metadata": {},
   "source": [
    "_Note:_ Unlike R, when checking a type() for an object, you need NOT specify the type using quotation marks. That is, \n",
    "\n",
    "    type(\"Alice\")==\"str\" will return **False** , \n",
    "    \n",
    "whereas\n",
    "\n",
    "    type(\"Alice\")==str will return **True** .\n"
   ]
  },
  {
   "cell_type": "markdown",
   "id": "914a832d",
   "metadata": {},
   "source": [
    "- Unlike R, rather than using '|' and '&', Python simply uses 'or' and 'and' respectively.\n",
    "\n"
   ]
  },
  {
   "cell_type": "code",
   "execution_count": 19,
   "id": "c0024e46",
   "metadata": {},
   "outputs": [
    {
     "name": "stdout",
     "output_type": "stream",
     "text": [
      "True\n",
      "True\n"
     ]
    }
   ],
   "source": [
    "x=5\n",
    "print(x>0 and x<16)   # Both conditions are True, therefore the answer is True.\n",
    "\n",
    "y=17\n",
    "print(y==17 or y!=17)  # One of the two is True, therefore the answer is True."
   ]
  },
  {
   "cell_type": "markdown",
   "id": "c534c88a",
   "metadata": {},
   "source": [
    "- Python presents an equivalent for R's ' %in% ', which is given by simply ' in '. The opposite is given by ' not in '.\n",
    "\n",
    "_Note:_ The 'not in' and 'not True' use different kinds of 'not', though they are functionally the same for the purpose of negating the succeeding affirmation. "
   ]
  },
  {
   "cell_type": "code",
   "execution_count": 22,
   "id": "83db9bf4",
   "metadata": {},
   "outputs": [
    {
     "name": "stdout",
     "output_type": "stream",
     "text": [
      "True\n",
      "False\n"
     ]
    }
   ],
   "source": [
    "print('I' in 'I am wrong')  # 'I' features inside the string.\n",
    "\n",
    "print(7 not in [7, 18, \"Apples\"])  # 7 features inside the list."
   ]
  },
  {
   "cell_type": "markdown",
   "id": "ef9e4ebb",
   "metadata": {},
   "source": [
    "- Comparison operators such as in, not in, and and or have the lowest priority of precedency. That is, in the following expression:\n",
    "\n",
    "    5*3==15 and 8+8<20\n",
    "    \n",
    "regardless of our use of parantheses, the 'and' operator is taken between the two expressions, whatever they may be, on its left and right.\n",
    "\n",
    "- In particular, the level of precedency priority is as follows, from HIGHEST to LOWEST:\n",
    "\n",
    "\n",
    "\n",
    "7) Exponential ---   **\n",
    "\n",
    "6) Multiplication --- *, / , //, %\n",
    "\n",
    "5) Addition --- +, -\n",
    "\n",
    "4) Relational --- ==, !=, >=, <=, <, >\n",
    "\n",
    "3) Logical3 --- not\n",
    "\n",
    "2) Logical2 --- and\n",
    "\n",
    "1) Logical1 --- or"
   ]
  },
  {
   "cell_type": "markdown",
   "id": "834aac8a",
   "metadata": {},
   "source": [
    "- The python equivalent for 'elseif' is simply 'elif'. Moreover, : is necessary at the end of the statement, but again, ' {} ' are not accepted."
   ]
  },
  {
   "cell_type": "code",
   "execution_count": 24,
   "id": "dd959c93",
   "metadata": {},
   "outputs": [
    {
     "name": "stdout",
     "output_type": "stream",
     "text": [
      "X and Y are equal\n"
     ]
    }
   ],
   "source": [
    "x=10\n",
    "y=10\n",
    "if(x>y):\n",
    "    print(\"X is greater than Y\")\n",
    "elif(x<y):\n",
    "    print(\"Y is greater than X\")\n",
    "else:\n",
    "        print(\"X and Y are equal\")"
   ]
  },
  {
   "cell_type": "markdown",
   "id": "f53042f9",
   "metadata": {},
   "source": [
    "- Essentially, in nested conditionals, you _always_ start with IF, continue with either a combination of if's and else's, but more custom with a sequence of ELIF, and you _end_ with an ELSE.\n",
    "\n",
    "\n",
    "- Necessarilly, an else always has an associated if. Two else's CANNOT be used in direct succession, such as if - else - else : as it will cause a syntax error."
   ]
  },
  {
   "cell_type": "code",
   "execution_count": null,
   "id": "2e489fd0",
   "metadata": {},
   "outputs": [],
   "source": []
  }
 ],
 "metadata": {
  "kernelspec": {
   "display_name": "Python 3",
   "language": "python",
   "name": "python3"
  },
  "language_info": {
   "codemirror_mode": {
    "name": "ipython",
    "version": 3
   },
   "file_extension": ".py",
   "mimetype": "text/x-python",
   "name": "python",
   "nbconvert_exporter": "python",
   "pygments_lexer": "ipython3",
   "version": "3.8.8"
  }
 },
 "nbformat": 4,
 "nbformat_minor": 5
}
