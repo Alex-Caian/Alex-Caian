{
 "cells": [
  {
   "cell_type": "markdown",
   "id": "68dbe38b",
   "metadata": {},
   "source": [
    "Week One: 20%\n",
    "\n",
    "- Assessment - Programming in Python (10%)\n",
    "\n",
    "- Assessment - Turtle Graphics (10%)\n",
    "\n",
    "Week Two: 20%\n",
    "\n",
    "- Assessment - Lists and Strings (10%)\n",
    "\n",
    "- Assignment - Week Two (10%)\n",
    "\n",
    "Week Three: 10%\n",
    "\n",
    "- Assessment - Week Three (10%)\n",
    "\n",
    "Week Four: 50%\n",
    "\n",
    "- Assessment - Sequence Mutation (7.5%)\n",
    "\n",
    "- Assessment - Methods: Lists and Strings (7.5%)\n",
    "\n",
    "- Assessment - Accumulating Lists and Strings (7.5%)\n",
    "\n",
    "- Assessment - Way of the Programmer Week Four (7.5%)\n",
    "\n",
    "- Assignment - Final course assignment (20%)"
   ]
  },
  {
   "cell_type": "markdown",
   "id": "a5219a6f",
   "metadata": {},
   "source": [
    "### Week 1\n",
    "\n",
    "_Note: I only keep notes of things I didn't know, or needed refershing on._"
   ]
  },
  {
   "cell_type": "markdown",
   "id": "dfd1ca3f",
   "metadata": {},
   "source": [
    "- The operand ' ** ' represents exponential, unlike R/C++ which use ' ^ '"
   ]
  },
  {
   "cell_type": "code",
   "execution_count": 7,
   "id": "6f7a7991",
   "metadata": {},
   "outputs": [
    {
     "name": "stdout",
     "output_type": "stream",
     "text": [
      "The following is 16: 16\n",
      "\n",
      "\n",
      "The following is NOT 16: 6\n"
     ]
    }
   ],
   "source": [
    "print(\"The following is 16:\", 4**2)\n",
    "print(\"\\n\")\n",
    "print(\"The following is NOT 16:\", 4^2)"
   ]
  },
  {
   "cell_type": "markdown",
   "id": "9d46e698",
   "metadata": {},
   "source": [
    "- The operand ' \\\\ ' functionally acts like the FUN round() (minus 1, since it TRUNCATES rather than ROUNDING) from R:"
   ]
  },
  {
   "cell_type": "code",
   "execution_count": 9,
   "id": "3705f06d",
   "metadata": {},
   "outputs": [
    {
     "name": "stdout",
     "output_type": "stream",
     "text": [
      "0.5555555555555556\n",
      "\n",
      "\n",
      "0\n"
     ]
    }
   ],
   "source": [
    "print(5/9)\n",
    "print(\"\\n\")\n",
    "print(5//9)"
   ]
  },
  {
   "cell_type": "markdown",
   "id": "cb163663",
   "metadata": {},
   "source": [
    "- Order of operations goes from RIGHT to LEFT:"
   ]
  },
  {
   "cell_type": "code",
   "execution_count": 12,
   "id": "d0e54300",
   "metadata": {},
   "outputs": [
    {
     "name": "stdout",
     "output_type": "stream",
     "text": [
      "512\n",
      "\n",
      "\n",
      "64\n"
     ]
    }
   ],
   "source": [
    "print(2 ** 3 ** 2)     # the right-most ** operator gets done first!\n",
    "print(\"\\n\")\n",
    "print((2 ** 3) ** 2)   # use parentheses to force the order you want!"
   ]
  },
  {
   "cell_type": "markdown",
   "id": "d662b3b1",
   "metadata": {},
   "source": [
    "- Short review into how functions are defined:\n",
    "\n",
    "    Note: ' {} ' **do NOT** work in Python, unlike R."
   ]
  },
  {
   "cell_type": "code",
   "execution_count": 18,
   "id": "1ed1fe92",
   "metadata": {},
   "outputs": [],
   "source": [
    "def square(x):\n",
    "    y = x**2\n",
    "    print(y)"
   ]
  },
  {
   "cell_type": "code",
   "execution_count": 20,
   "id": "7bbf4cda",
   "metadata": {},
   "outputs": [
    {
     "name": "stdout",
     "output_type": "stream",
     "text": [
      "25\n"
     ]
    }
   ],
   "source": [
    "square(5)"
   ]
  },
  {
   "cell_type": "markdown",
   "id": "90bfa892",
   "metadata": {},
   "source": [
    "- The function type() in Python is the same FUN as class() in R:"
   ]
  },
  {
   "cell_type": "code",
   "execution_count": 22,
   "id": "6eba0668",
   "metadata": {},
   "outputs": [
    {
     "name": "stdout",
     "output_type": "stream",
     "text": [
      "<class 'int'>\n",
      "<class 'float'>\n",
      "<class 'str'>\n"
     ]
    }
   ],
   "source": [
    "print(type(5))\n",
    "print(type(5.0))\n",
    "print(type(\"Hi!\"))"
   ]
  },
  {
   "cell_type": "markdown",
   "id": "977b368a",
   "metadata": {},
   "source": [
    "- Rather than using as.class calls like in R, in Python it suffices to mention the class to convert, without the 'as.' indicator:"
   ]
  },
  {
   "cell_type": "code",
   "execution_count": 33,
   "id": "000a233b",
   "metadata": {},
   "outputs": [
    {
     "name": "stdout",
     "output_type": "stream",
     "text": [
      "5 \n",
      " 5.2 \n",
      " 112.55\n"
     ]
    }
   ],
   "source": [
    "x = int(5.20)\n",
    "y = 5.20\n",
    "\n",
    "print(x, \"\\n\" ,y, \"\\n\", float(\"112.55\"))"
   ]
  },
  {
   "cell_type": "markdown",
   "id": "17610d83",
   "metadata": {},
   "source": [
    "- You can also print statements using the '+' indicator, much like R:"
   ]
  },
  {
   "cell_type": "code",
   "execution_count": 32,
   "id": "96d482de",
   "metadata": {},
   "outputs": [
    {
     "name": "stdout",
     "output_type": "stream",
     "text": [
      "I am learning Python, but I prefer R.\n"
     ]
    }
   ],
   "source": [
    "print(\"I am\" + \" learning Python\" + \", but I prefer R.\")"
   ]
  },
  {
   "cell_type": "markdown",
   "id": "8b262f5a",
   "metadata": {},
   "source": [
    "- Interestingly, pi is not a constant in Python:"
   ]
  },
  {
   "cell_type": "code",
   "execution_count": 38,
   "id": "94ba6ec9",
   "metadata": {},
   "outputs": [],
   "source": [
    "# print(pi)"
   ]
  },
  {
   "cell_type": "markdown",
   "id": "d81afc55",
   "metadata": {},
   "source": [
    "- The following list describes a set of Python keywords. Explanations are provided where necessary:"
   ]
  },
  {
   "cell_type": "markdown",
   "id": "1f038798",
   "metadata": {},
   "source": [
    "**and**\n",
    "\n",
    "**as**\n",
    "\n",
    "**assert** : used to continue the execute if the given condition evaluates to True. If the assert condition evaluates to False, then it raises the AssertionError exception with the specified error message.\n",
    "\n",
    "**break** :  stops the loop in which the statement is placed (like R)\n",
    "\n",
    "**class** : a user-defined blueprint or prototype from which objects are created. Classes provide a means of bundling data and functionality together. Creating a new class creates a new type of object, allowing new instances of that type to be made.\n",
    "\n",
    "**continue** : returns the control to the beginning of the while loop. The continue statement rejects all the remaining statements in the current iteration of the loop and moves the control back to the top of the loop. The continue statement can be used in both while and for loops.\n",
    "\n",
    "**def** : function defining\n",
    "\n",
    "**del** : The del keyword in python is primarily used to delete objects in Python. Since everything in python represents an object in one way or another, The del keyword can also be used to delete a list, slice a list, delete a dictionaries, remove key-value pairs from a dictionary, delete variables, etc.\n",
    "\n",
    "**elif** : Functionally 'elseif' from R\n",
    "\n",
    "**else**\n",
    "\n",
    "**except** : Adds exception \n",
    "\n",
    "**exec** : exec() function is used for the dynamic execution of Python program which can either be a string or object code. If it is a string, the string is parsed as a suite of Python statements which is then executed unless a syntax error occurs and if it is an object code, it is simply executed.\n",
    "\n",
    "**finally** : Python provides a keyword finally, which is always executed after try and except blocks. The finally block always executes after normal termination of try block or after try block terminates due to some exception.\n",
    "\n",
    "**for**\n",
    "\n",
    "**from** : The from keyword is used to import only a specified section from a module.\n",
    "\n",
    "**global** : Global keyword is a keyword that allows a user to modify a variable outside of the current scope. It is used to create global variables from a non-global scope i.e inside a function.\n",
    "\n",
    "**if**\n",
    "\n",
    "**import**\n",
    "\n",
    "**in**\n",
    "\n",
    "**is**\n",
    "\n",
    "**lambda** : Syntax. Simply put, a lambda function is just like any normal python function, except that it has no name when defining it, and it is contained in one line of code. A lambda function evaluates an expression for a given argument. You give the function a value (argument) and then provide the operation (expression).\n",
    "\n",
    "**nonlocal** : The nonlocal keyword is used to work with variables inside nested functions, where the variable should not belong to the inner function. Use the keyword nonlocal to declare that the variable is not local.\n",
    "\n",
    "**not**\n",
    "\n",
    "**or**\n",
    "\n",
    "**pass** : The pass statement is a null statement. But the difference between pass and comment is that comment is ignored by the interpreter whereas pass is not ignored. The pass statement is generally used as a placeholder i.e. when the user does not know what code to write.\n",
    "\n",
    "**raise** : The Python interpreter raises an exception each time it detects an error in an expression or statement. Users can also raise exceptions with raise and assert statements. Raising exceptions. An exception is a object instance with a class that inherits, either directly or indirectly, from the BaseException class.\n",
    "\n",
    "**return**\n",
    "\n",
    "**try** : The try block lets you test a block of code for errors\n",
    "\n",
    "**while**\n",
    "\n",
    "**with** : with statement in Python is used in exception handling to make the code cleaner and much more readable. It simplifies the management of common resources like file streams.\n",
    "\n",
    "**yield** : The yield statement suspends function’s execution and sends a value back to the caller, but retains enough state to enable function to resume where it is left off. When resumed, the function continues execution immediately after the last yield run. This allows its code to produce a series of values over time, rather than computing them at once and sending them back like a list.\n",
    "\n",
    "**True**\n",
    "\n",
    "**False**\n",
    "\n",
    "**None**"
   ]
  },
  {
   "cell_type": "markdown",
   "id": "d5ffb5cd",
   "metadata": {},
   "source": [
    "- Here's how lambda() is used:"
   ]
  },
  {
   "cell_type": "code",
   "execution_count": 42,
   "id": "4bc36759",
   "metadata": {},
   "outputs": [
    {
     "data": {
      "text/plain": [
       "15"
      ]
     },
     "execution_count": 42,
     "metadata": {},
     "output_type": "execute_result"
    }
   ],
   "source": [
    "AddTen = lambda x : x+10      # ONLY for one-liners\n",
    "\n",
    "AddTen(5)"
   ]
  },
  {
   "cell_type": "markdown",
   "id": "49d963dd",
   "metadata": {},
   "source": [
    "- Python evaluates expressions from left to right, i.e. looks up the objects from the variables in the order as they are called."
   ]
  },
  {
   "cell_type": "markdown",
   "id": "18b54047",
   "metadata": {},
   "source": [
    "- Python uses shortcuts for assignment, which R does not understand. The following examples apply:"
   ]
  },
  {
   "cell_type": "code",
   "execution_count": 48,
   "id": "18269f22",
   "metadata": {},
   "outputs": [
    {
     "name": "stdout",
     "output_type": "stream",
     "text": [
      "8\n",
      "10\n",
      "8\n"
     ]
    }
   ],
   "source": [
    "x = 5\n",
    "x += 3       ## += for addition\n",
    "print(x)\n",
    "\n",
    "y = 8\n",
    "y -= -2      ## -= for subtraction\n",
    "print(y)\n",
    "\n",
    "z=2\n",
    "z **= 3      ## **= for exponential\n",
    "print(z)"
   ]
  },
  {
   "cell_type": "markdown",
   "id": "b4894b84",
   "metadata": {},
   "source": [
    "- The function input() is the equivalent of readline from R, with explicit prompt:\n",
    "\n",
    "    _Note: Much like R, input() always writes a string, regardless of whether you intended a num. Check beforehand._"
   ]
  },
  {
   "cell_type": "code",
   "execution_count": 57,
   "id": "902543a2",
   "metadata": {},
   "outputs": [
    {
     "name": "stdout",
     "output_type": "stream",
     "text": [
      "Pick a number between 1 and 10: 3\n",
      "The double of that is  6\n"
     ]
    }
   ],
   "source": [
    "n = int(input(\"Pick a number between 1 and 10: \"))\n",
    "print(\"The double of that is \", n*2)"
   ]
  },
  {
   "cell_type": "markdown",
   "id": "b1796682",
   "metadata": {},
   "source": [
    "- Dot (' . ') notations are representative of Python. These occur with imported libraries only. Things after the dot are called methods, and they preceed a value. For example, data.head()"
   ]
  },
  {
   "cell_type": "code",
   "execution_count": 1,
   "id": "c1b59cad",
   "metadata": {},
   "outputs": [],
   "source": [
    "# import turtle as trt\n",
    "\n",
    "# alex = trt.Screen()\n",
    "    ## Jupyter does not enjoy this secondary GUI."
   ]
  },
  {
   "cell_type": "markdown",
   "id": "cd7aa5af",
   "metadata": {},
   "source": [
    "- Objects can have instances in Python, which is what we understand as Something.SomethingElse\n",
    "\n",
    "\n",
    "- Instances themselves can have attributes or values, such as Instance.Instance = Value\n",
    "\n",
    "\n",
    "- Classes have associated methods. Methods are in all aspects similar to function calls, _except_ that the object instance itself is also passed as a parameter, unlike functions."
   ]
  },
  {
   "cell_type": "markdown",
   "id": "e8c41840",
   "metadata": {},
   "source": [
    "- In Python, you can use the range() function with just 1 parameter. For instance:"
   ]
  },
  {
   "cell_type": "code",
   "execution_count": 3,
   "id": "6c4ba38a",
   "metadata": {},
   "outputs": [
    {
     "name": "stdout",
     "output_type": "stream",
     "text": [
      "25\n",
      "625\n",
      "390625\n"
     ]
    }
   ],
   "source": [
    "n = 5\n",
    "for _ in range(3):\n",
    "    n **= 2\n",
    "    print(n)"
   ]
  },
  {
   "cell_type": "markdown",
   "id": "aa5fe2e7",
   "metadata": {},
   "source": [
    "Random fun code. DO NOT run in this env!"
   ]
  },
  {
   "cell_type": "code",
   "execution_count": 11,
   "id": "334de0b9",
   "metadata": {},
   "outputs": [],
   "source": [
    "## import turtle\n",
    "## import random \n",
    "\n",
    "# wn = turtle.Screen()\n",
    "\n",
    "# y = turtle.Turtle()\n",
    "\n",
    "# random.seed(5)\n",
    "# distance = random.randint(1,50)\n",
    "# i=1\n",
    "# for _ in range(15):\n",
    " #    y.forward(distance)\n",
    " #    y.left(random.randint(1,270))\n",
    " #    y.forward(distance)\n",
    " #    y.right(random.randint(1,270))\n",
    " #    y.forward(distance)\n",
    " #    random.seed(i)\n",
    " #    distance = random.randint(1,50)\n",
    " #    i += 1"
   ]
  },
  {
   "cell_type": "markdown",
   "id": "2af90ec0",
   "metadata": {},
   "source": [
    "**Important!** In the following example, we have:\n",
    "\n",
    "    Instance = Class.Method(Variable)\n",
    "\n",
    "    print(Class.Attribute)"
   ]
  },
  {
   "cell_type": "markdown",
   "id": "3321a6c2",
   "metadata": {},
   "source": [
    "- There are 3 types of errors: Syntax, Runtime and Semantic.\n",
    "\n",
    "**Syntax**\n",
    "\n",
    "    The statements just aren't well formed, the interpreter can't parse it. \n",
    "    \n",
    "    Error type: SyntaxError, NameError etc.\n",
    "    \n",
    "**Runtime**\n",
    "\n",
    "    Can parse the program, but during the running an illegal operation happens (eg. infinite loop)\n",
    "    \n",
    "    Error type: Either no error, or for eg ZeroDivisionError.\n",
    "    \n",
    "**Semantic**\n",
    "\n",
    "    Can parse, as well as can run, but doesn't do what the programmer intended.\n",
    "    \n",
    "    Error type: No error, unless warning set up."
   ]
  },
  {
   "cell_type": "markdown",
   "id": "db5d899c",
   "metadata": {},
   "source": [
    "- Nearly 90% of the error messages encountered for this problem are SyntaxError, TypeError, NameError, ValueError, or AttributeError."
   ]
  },
  {
   "cell_type": "markdown",
   "id": "7c1d5ec8",
   "metadata": {},
   "source": [
    "### Week 2"
   ]
  },
  {
   "cell_type": "markdown",
   "id": "b646ae6d",
   "metadata": {},
   "source": [
    "- Sequence = _Ordered_ collection of items, with a given length.\n",
    "\n",
    "    Lists = sequences of any types of values. Created using [], whereas strings are created using ''\n",
    "    \n",
    "    Strings = sequences of characters."
   ]
  },
  {
   "cell_type": "code",
   "execution_count": 2,
   "id": "c11ddf30",
   "metadata": {},
   "outputs": [
    {
     "name": "stdout",
     "output_type": "stream",
     "text": [
      "['Hi', 5, '17']\n"
     ]
    },
    {
     "data": {
      "text/plain": [
       "list"
      ]
     },
     "execution_count": 2,
     "metadata": {},
     "output_type": "execute_result"
    }
   ],
   "source": [
    "l = [\"Hi\", 5, \"17\"]\n",
    "print(l)\n",
    "type(l)"
   ]
  },
  {
   "cell_type": "markdown",
   "id": "5c915d3e",
   "metadata": {},
   "source": [
    "- Python also understands tuples, which use normal brackets () to define:"
   ]
  },
  {
   "cell_type": "code",
   "execution_count": 7,
   "id": "65153e4c",
   "metadata": {},
   "outputs": [
    {
     "name": "stdout",
     "output_type": "stream",
     "text": [
      "(5, 'Hi!', 18)\n"
     ]
    },
    {
     "data": {
      "text/plain": [
       "tuple"
      ]
     },
     "execution_count": 7,
     "metadata": {},
     "output_type": "execute_result"
    }
   ],
   "source": [
    "x = (5,\"Hi!\",18)\n",
    "print(x)\n",
    "type(x)"
   ]
  },
  {
   "cell_type": "markdown",
   "id": "164b0a27",
   "metadata": {},
   "source": [
    "- The main difference between **lists** and **tuples** is that lists are muttable (i.e. CAN be changed after creation, such as appending/deleting etc.), whereas tuples are immuttable (i.e. CANNOT be changed after creation)\n",
    "\n",
    "- To create single items tuple you add a comma at the end, eg. (100, ) rather than (100) -- which gets interpreted as an int instead."
   ]
  },
  {
   "cell_type": "markdown",
   "id": "b98710c8",
   "metadata": {},
   "source": [
    "- This is how indexing works in Python, which is 0 indexed:"
   ]
  },
  {
   "cell_type": "code",
   "execution_count": 9,
   "id": "33149d7c",
   "metadata": {},
   "outputs": [
    {
     "name": "stdout",
     "output_type": "stream",
     "text": [
      "y\n",
      "P\n",
      "o\n"
     ]
    }
   ],
   "source": [
    "s = \"Python\"\n",
    "print(s[1])\n",
    "print(s[0])\n",
    "print(s[-2])    # Unlike R, this counts backwards rather than removing."
   ]
  },
  {
   "cell_type": "markdown",
   "id": "941d5111",
   "metadata": {},
   "source": [
    "- To slice indexing in python, just like R, we use ':' as follows:"
   ]
  },
  {
   "cell_type": "code",
   "execution_count": 13,
   "id": "d6cb0a58",
   "metadata": {},
   "outputs": [
    {
     "name": "stdout",
     "output_type": "stream",
     "text": [
      "9 \n",
      "\n",
      "['Hi', 1000]\n",
      "[1, 0, 'Zero']\n"
     ]
    }
   ],
   "source": [
    "Lst = [\"Hi\", 1000, 999, 998, \"Bye\", \"StillGoing\", 1, 0, \"Zero\"]\n",
    "print(len(Lst), \"\\n\")\n",
    "\n",
    "l1 = Lst[:2]    ## Print everything UP to, and NOT including index 2. That is, 2 elements = 2-0.\n",
    "l2 = Lst[6:]    ## Print everything FROM, AND including index 6. That is, 3 elements = 9-6.\n",
    "\n",
    "print(l1)\n",
    "print(l2)"
   ]
  },
  {
   "cell_type": "markdown",
   "id": "f8a307bc",
   "metadata": {},
   "source": [
    "- In Python, as a general rule, start index IS included whereas end index is NOT included. For instance, for x[n:(n+k)] will include x[n] and will _not_ include x[n+k]."
   ]
  },
  {
   "cell_type": "markdown",
   "id": "ea427e00",
   "metadata": {},
   "source": [
    "- Repetition in python is treated like any usual operation:"
   ]
  },
  {
   "cell_type": "code",
   "execution_count": 14,
   "id": "c043b74f",
   "metadata": {},
   "outputs": [
    {
     "name": "stdout",
     "output_type": "stream",
     "text": [
      "[0, 1, 3, 0, 1, 3, 0, 1, 3]\n"
     ]
    }
   ],
   "source": [
    "l = [0,1,3]\n",
    "lst = l * 3\n",
    "print(lst)"
   ]
  },
  {
   "cell_type": "markdown",
   "id": "c83fdb45",
   "metadata": {},
   "source": [
    "- Python offers a method for counting how many times a given character or sequence of characters features in a string/list. This is much like the count() function from R. It uses the dot method as follows:"
   ]
  },
  {
   "cell_type": "code",
   "execution_count": 18,
   "id": "c6cce24b",
   "metadata": {},
   "outputs": [
    {
     "name": "stdout",
     "output_type": "stream",
     "text": [
      "4\n",
      "1\n",
      "1\n"
     ]
    }
   ],
   "source": [
    "a = \"Banananana\"\n",
    "print(a.count(\"na\"))   ## We have 4 occurences of 'na' in a.\n",
    "\n",
    "l = [\"A\", \"BA\", \"CA\", \"DA\"]\n",
    "print(l.count(\"A\"))   ## The element 'A' only appears once in the list.\n",
    "print(l.count(\"BA\"))  ## Same for element 'BA'"
   ]
  },
  {
   "cell_type": "markdown",
   "id": "473eefcc",
   "metadata": {},
   "source": [
    "- Python can also detect where a particular character features in a string/list using indexing:"
   ]
  },
  {
   "cell_type": "code",
   "execution_count": 27,
   "id": "6a3146ec",
   "metadata": {},
   "outputs": [
    {
     "name": "stdout",
     "output_type": "stream",
     "text": [
      "2 \n",
      "\n",
      "15 \n",
      "\n",
      "2\n"
     ]
    }
   ],
   "source": [
    "M = \"I must muster the master of mustard\"\n",
    "print(M.index(\"m\"), \"\\n\")   ## It prints the FIRST (leftmost) occurence of the character 'm' in the string M.\n",
    "print(M.index(\"he\"), \"\\n\")  ## Prints the first (leftmost) occurence of the FIRST character in the sequence of characters mentioned, i.e. 'h'.\n",
    "\n",
    "L = [\"Hi\", \"Hi\", \"Bye\", [], [[[]]], 0]\n",
    "print(L.index(\"Bye\"))  ## It occurs on the 3rd spot, hence the 2nd index by 0-indexing.\n",
    "# print(L.index([[]])) ## This is NOT in the list."
   ]
  },
  {
   "cell_type": "markdown",
   "id": "3503ed89",
   "metadata": {},
   "source": [
    "- If the indexed element is not in the list, we return an error. If the counted element is not in the list, we return zero (0)."
   ]
  },
  {
   "cell_type": "code",
   "execution_count": 28,
   "id": "8161841d",
   "metadata": {},
   "outputs": [
    {
     "name": "stdout",
     "output_type": "stream",
     "text": [
      "0\n"
     ]
    }
   ],
   "source": [
    "w = [\"Hi\", \"Hi\", \"Hii!!\"]\n",
    "print(w.count(\"Bye!\"))"
   ]
  },
  {
   "cell_type": "markdown",
   "id": "2a131b29",
   "metadata": {},
   "source": [
    "- Python's split() function (using under the dot method) reacts much better than R's variant, virtually splitting strings by words/characters or denoted pattern, much like gsub/grep etc. in R:"
   ]
  },
  {
   "cell_type": "code",
   "execution_count": 36,
   "id": "b6eca2e7",
   "metadata": {},
   "outputs": [
    {
     "name": "stdout",
     "output_type": "stream",
     "text": [
      "['I', 'was', 'once', 'a', 'man,', 'now', \"I'm\", 'dead', 'inside.']\n",
      "9\n",
      "\n",
      "\n",
      "\n",
      "['I was once a man', \" now I'm dead inside.\"]\n",
      "2\n"
     ]
    }
   ],
   "source": [
    "w = \"I was once a man, now I'm dead inside.\"\n",
    "w_split = w.split()  ## Separation is done by blanks. We can also do it by commas rather.\n",
    "print(w_split)\n",
    "print(len(w_split))\n",
    "print(\"\\n\\n\")\n",
    "w_com = w.split(\",\")\n",
    "print(w_com)\n",
    "print(len(w_com))"
   ]
  },
  {
   "cell_type": "markdown",
   "id": "dd834fe2",
   "metadata": {},
   "source": [
    "- The counterpart of split() is join(), which acts like join/merge in R:"
   ]
  },
  {
   "cell_type": "code",
   "execution_count": 39,
   "id": "d745f449",
   "metadata": {},
   "outputs": [
    {
     "name": "stdout",
     "output_type": "stream",
     "text": [
      "Me,Myself,I\n",
      "Apples Bananas Melons\n"
     ]
    }
   ],
   "source": [
    "print(\",\".join(['Me', 'Myself', 'I']))  ## Join the words using a comma\n",
    "\n",
    "glue = \" \"\n",
    "lst = [\"Apples\", \"Bananas\", \"Melons\"]\n",
    "print(glue.join(lst))"
   ]
  },
  {
   "cell_type": "markdown",
   "id": "e4332d8e",
   "metadata": {},
   "source": [
    "- Python uses the range() FUN for virtually any listing. The R equivalent is often simple arrays by c()"
   ]
  },
  {
   "cell_type": "code",
   "execution_count": 40,
   "id": "facdc03f",
   "metadata": {},
   "outputs": [
    {
     "name": "stdout",
     "output_type": "stream",
     "text": [
      "[0, 1, 2, 3, 4]\n"
     ]
    }
   ],
   "source": [
    "print(list(range(5)))"
   ]
  },
  {
   "cell_type": "markdown",
   "id": "9d9a12aa",
   "metadata": {},
   "source": [
    "- **Iterable** = What we are iterating through.\n",
    "\n",
    "- **Iterator** = What is being iterated.\n",
    "\n",
    "\n",
    "Eg: For Iterator in Iterable:"
   ]
  },
  {
   "cell_type": "markdown",
   "id": "68aca081",
   "metadata": {},
   "source": [
    "Even more fun had at the expense of turtles. Again, _DO NOT_ run this code within the Jupyter GUI, it doesn't quite like it."
   ]
  },
  {
   "cell_type": "code",
   "execution_count": null,
   "id": "18eebdf3",
   "metadata": {},
   "outputs": [],
   "source": [
    "import turtle\n",
    "import random\n",
    "wn = turtle.Screen()\n",
    "# wn.bgcolor(\"blue\")\n",
    "lst = ['blue', 'red', 'pink', 'orange', 'black', 'white', 'brown', 'grey', 'purple', 'violet', 'green']\n",
    "alex=turtle.Turtle()\n",
    "alex.color(\"red\")\n",
    "alex.shape('turtle')\n",
    "\n",
    "alex.speed(9)\n",
    "\n",
    "dist = random.randrange(20)\n",
    "angle = random.randrange(361)\n",
    "times = random.randrange(20)\n",
    "\n",
    "for i in range(80):\n",
    "    j = random.randrange(len(lst))\n",
    "    alex.color(lst[j])\n",
    "    wn.bgcolor(lst[2*j%len(lst)])\n",
    "    alex.stamp()\n",
    "    alex.penup()\n",
    "    alex.forward(dist)\n",
    "    alex.left(angle)\n",
    "    alex.forward(dist)\n",
    "    dist = random.randrange(60)\n",
    "    angle = random.randrange(361)"
   ]
  },
  {
   "cell_type": "markdown",
   "id": "ce097b59",
   "metadata": {},
   "source": [
    "### Week 3"
   ]
  },
  {
   "cell_type": "markdown",
   "id": "c488758b",
   "metadata": {},
   "source": [
    "- Like R, Python has 2 booleans, written as 'True' or 'False'\n",
    "\n",
    "These can determine the truthiness state of comparisons/equations:"
   ]
  },
  {
   "cell_type": "code",
   "execution_count": 17,
   "id": "d880bbe4",
   "metadata": {},
   "outputs": [
    {
     "name": "stdout",
     "output_type": "stream",
     "text": [
      "<class 'bool'>\n",
      "False\n",
      "True\n",
      "True\n"
     ]
    }
   ],
   "source": [
    "print(type(True))\n",
    "print(5==6)\n",
    "print(type(\"Alice\") is str )\n",
    "print(type(\"Alice\") == str )"
   ]
  },
  {
   "cell_type": "markdown",
   "id": "ce92c7f3",
   "metadata": {},
   "source": [
    "_Note:_ Unlike R, when checking a type() for an object, you need NOT specify the type using quotation marks. That is, \n",
    "\n",
    "    type(\"Alice\")==\"str\" will return **False** , \n",
    "    \n",
    "whereas\n",
    "\n",
    "    type(\"Alice\")==str will return **True** .\n"
   ]
  },
  {
   "cell_type": "markdown",
   "id": "881023bc",
   "metadata": {},
   "source": [
    "- Unlike R, rather than using '|' and '&', Python simply uses 'or' and 'and' respectively.\n",
    "\n"
   ]
  },
  {
   "cell_type": "code",
   "execution_count": 19,
   "id": "13dea15e",
   "metadata": {},
   "outputs": [
    {
     "name": "stdout",
     "output_type": "stream",
     "text": [
      "True\n",
      "True\n"
     ]
    }
   ],
   "source": [
    "x=5\n",
    "print(x>0 and x<16)   # Both conditions are True, therefore the answer is True.\n",
    "\n",
    "y=17\n",
    "print(y==17 or y!=17)  # One of the two is True, therefore the answer is True."
   ]
  },
  {
   "cell_type": "markdown",
   "id": "e7323346",
   "metadata": {},
   "source": [
    "- Python presents an equivalent for R's ' %in% ', which is given by simply ' in '. The opposite is given by ' not in '.\n",
    "\n",
    "_Note:_ The 'not in' and 'not True' use different kinds of 'not', though they are functionally the same for the purpose of negating the succeeding affirmation. "
   ]
  },
  {
   "cell_type": "code",
   "execution_count": 22,
   "id": "da3a75ae",
   "metadata": {},
   "outputs": [
    {
     "name": "stdout",
     "output_type": "stream",
     "text": [
      "True\n",
      "False\n"
     ]
    }
   ],
   "source": [
    "print('I' in 'I am wrong')  # 'I' features inside the string.\n",
    "\n",
    "print(7 not in [7, 18, \"Apples\"])  # 7 features inside the list."
   ]
  },
  {
   "cell_type": "markdown",
   "id": "10258929",
   "metadata": {},
   "source": [
    "- Comparison operators such as in, not in, and and or have the lowest priority of precedency. That is, in the following expression:\n",
    "\n",
    "    5*3==15 and 8+8<20\n",
    "    \n",
    "regardless of our use of parantheses, the 'and' operator is taken between the two expressions, whatever they may be, on its left and right.\n",
    "\n",
    "- In particular, the level of precedency priority is as follows, from HIGHEST to LOWEST:\n",
    "\n",
    "\n",
    "\n",
    "7) Exponential ---   **\n",
    "\n",
    "6) Multiplication --- *, / , //, %\n",
    "\n",
    "5) Addition --- +, -\n",
    "\n",
    "4) Relational --- ==, !=, >=, <=, <, >\n",
    "\n",
    "3) Logical3 --- not\n",
    "\n",
    "2) Logical2 --- and\n",
    "\n",
    "1) Logical1 --- or"
   ]
  },
  {
   "cell_type": "markdown",
   "id": "a3f8c29b",
   "metadata": {},
   "source": [
    "- The python equivalent for 'elseif' is simply 'elif'. Moreover, : is necessary at the end of the statement, but again, ' {} ' are not accepted."
   ]
  },
  {
   "cell_type": "code",
   "execution_count": 24,
   "id": "ba38a889",
   "metadata": {},
   "outputs": [
    {
     "name": "stdout",
     "output_type": "stream",
     "text": [
      "X and Y are equal\n"
     ]
    }
   ],
   "source": [
    "x=10\n",
    "y=10\n",
    "if(x>y):\n",
    "    print(\"X is greater than Y\")\n",
    "elif(x<y):\n",
    "    print(\"Y is greater than X\")\n",
    "else:\n",
    "        print(\"X and Y are equal\")"
   ]
  },
  {
   "cell_type": "markdown",
   "id": "92433c8c",
   "metadata": {},
   "source": [
    "- Essentially, in nested conditionals, you _always_ start with IF, continue with either a combination of if's and else's, but more custom with a sequence of ELIF, and you _end_ with an ELSE.\n",
    "\n",
    "\n",
    "- Necessarilly, an else always has an associated if. Two else's CANNOT be used in direct succession, such as if - else - else : as it will cause a syntax error."
   ]
  },
  {
   "cell_type": "markdown",
   "id": "3aab3c2b",
   "metadata": {},
   "source": [
    "###### Solution 1"
   ]
  },
  {
   "cell_type": "code",
   "execution_count": 2,
   "id": "b4fb0a7b",
   "metadata": {},
   "outputs": [
    {
     "name": "stdout",
     "output_type": "stream",
     "text": [
      "['adopted', 'baked', 'beamed', 'confided', 'grilled', 'planted', 'timed', 'waved', 'wished']\n"
     ]
    }
   ],
   "source": [
    "words = [\"adopt\", \"bake\", \"beam\", \"confide\", \"grill\", \"plant\", \"time\", \"wave\", \"wish\"]\n",
    "past_tense = []\n",
    "for item in words:\n",
    "    if(item[-1]=='e'):\n",
    "        past_tense.append(item+'d')\n",
    "    else:\n",
    "        past_tense.append(item+'ed')\n",
    "        \n",
    "print(past_tense)"
   ]
  },
  {
   "cell_type": "markdown",
   "id": "744f1c7a",
   "metadata": {},
   "source": [
    "###### Solution 2"
   ]
  },
  {
   "cell_type": "code",
   "execution_count": 13,
   "id": "0d41eb1d",
   "metadata": {},
   "outputs": [
    {
     "name": "stdout",
     "output_type": "stream",
     "text": [
      "['adopted', 'baked', 'beamed', 'confided', 'grilled', 'planted', 'timed', 'waved', 'wished']\n"
     ]
    }
   ],
   "source": [
    "words = [\"adopt\", \"bake\", \"beam\", \"confide\", \"grill\", \"plant\", \"time\", \"wave\", \"wish\"]\n",
    "for item in words:\n",
    "    if(item[-1]=='e'):\n",
    "        item += 'd'\n",
    "        words = words[1:]\n",
    "        words.append(item)\n",
    "    else:\n",
    "        item = (item+'ed')\n",
    "        words = words[1:]\n",
    "        words.append(item)\n",
    "past_tense = words\n",
    "\n",
    "print(past_tense)"
   ]
  },
  {
   "cell_type": "markdown",
   "id": "1ba96703",
   "metadata": {},
   "source": [
    "PROBLEM: Write code that will count the number of vowels in the sentence s and assign the result to the variable num_vowels. For this problem, vowels are only a, e, i, o, and u. Hint: use the in operator with vowels.\n",
    "\n",
    "TASK: Can we do it differently?"
   ]
  },
  {
   "cell_type": "code",
   "execution_count": 2,
   "id": "c0358fea",
   "metadata": {},
   "outputs": [
    {
     "name": "stdout",
     "output_type": "stream",
     "text": [
      "True\n"
     ]
    }
   ],
   "source": [
    "s = \"singing in the rain and playing in the rain are two entirely different situations but both can be fun\"\n",
    "vowels = ['a','e','i','o','u']\n",
    "num_vowels = 0\n",
    "\n",
    "sent = s.split(\" \")\n",
    "for word in sent:\n",
    "    i=0\n",
    "    while(i<len(word)):\n",
    "        if(word[i] in vowels):\n",
    "            num_vowels += 1\n",
    "            i += 1\n",
    "        else:\n",
    "            i += 1\n",
    "\n",
    "print(num_vowels==32)"
   ]
  },
  {
   "cell_type": "markdown",
   "id": "edf4650c",
   "metadata": {},
   "source": [
    "### Week 4"
   ]
  },
  {
   "cell_type": "markdown",
   "id": "61a453ac",
   "metadata": {},
   "source": [
    "- In terms of mutability, Python allows for reassignment within lists and arrays, and does NOT allow for reassignment within tuples and strings. For example, str = 'Hi!' paired with str[0] = 'J' will return an error. The correct way to perform the modification is as follows:"
   ]
  },
  {
   "cell_type": "code",
   "execution_count": 1,
   "id": "5207d9ca",
   "metadata": {},
   "outputs": [
    {
     "name": "stdout",
     "output_type": "stream",
     "text": [
      "Ji!\n"
     ]
    }
   ],
   "source": [
    "str = 'Hi!'\n",
    "new_str = 'J' + str[1:] \n",
    "print(new_str)"
   ]
  },
  {
   "cell_type": "markdown",
   "id": "52e7b226",
   "metadata": {},
   "source": [
    "Take away:\n",
    "\n",
    "**Mutable** = Lists, Arrays\n",
    "\n",
    "**Immutable** = Strings, Tuples"
   ]
  },
  {
   "cell_type": "markdown",
   "id": "2cbcba4a",
   "metadata": {},
   "source": [
    "- To delete items in Python, we use the equivalent of R's rm(), called del():"
   ]
  },
  {
   "cell_type": "code",
   "execution_count": 2,
   "id": "1b293d8b",
   "metadata": {},
   "outputs": [
    {
     "name": "stdout",
     "output_type": "stream",
     "text": [
      "[19, 22]\n"
     ]
    }
   ],
   "source": [
    "lst = [7, 19, 22]\n",
    "del lst[0]\n",
    "print(lst)"
   ]
  },
  {
   "cell_type": "markdown",
   "id": "d5420d90",
   "metadata": {},
   "source": [
    "- Immutable objects are always each other when assigned the same value:"
   ]
  },
  {
   "cell_type": "code",
   "execution_count": 3,
   "id": "3da5f3ad",
   "metadata": {},
   "outputs": [
    {
     "name": "stdout",
     "output_type": "stream",
     "text": [
      "True\n"
     ]
    }
   ],
   "source": [
    "a = 'Banana'\n",
    "b = \"Banana\"\n",
    "print(a is b)"
   ]
  },
  {
   "cell_type": "markdown",
   "id": "9608b954",
   "metadata": {},
   "source": [
    "- However, the same thing is NOT true for mutable objects:"
   ]
  },
  {
   "cell_type": "code",
   "execution_count": 4,
   "id": "d1074a40",
   "metadata": {},
   "outputs": [
    {
     "name": "stdout",
     "output_type": "stream",
     "text": [
      "False\n",
      "True\n"
     ]
    }
   ],
   "source": [
    "a = [5,6]\n",
    "b = [5,6]\n",
    "\n",
    "print(a is b)\n",
    "print(a==b)"
   ]
  },
  {
   "cell_type": "markdown",
   "id": "499fa8a2",
   "metadata": {},
   "source": [
    "So: Immutable objects assigned to the same variable will have the same ID as well, effectively making them duplicates of the same instance. Mutable objects assigned to the same (or different) variables will differ in ID, as they can be modified individually."
   ]
  },
  {
   "cell_type": "code",
   "execution_count": 8,
   "id": "3679ee4d",
   "metadata": {},
   "outputs": [
    {
     "name": "stdout",
     "output_type": "stream",
     "text": [
      "1948209791040\n",
      "1948209976960\n",
      "True\n"
     ]
    }
   ],
   "source": [
    "print(id(a))  # Their personal IDs\n",
    "print(id(b))  # Their personal IDs \n",
    "\n",
    "x = 'apple'\n",
    "y = 'apple'\n",
    "\n",
    "print(id(x)==id(y))"
   ]
  },
  {
   "cell_type": "markdown",
   "id": "661a0026",
   "metadata": {},
   "source": [
    "- Python uses the concept of 'alias', when two objects point to each other. When changing one object, you also change all of its aliases:"
   ]
  },
  {
   "cell_type": "code",
   "execution_count": 11,
   "id": "c55ec55b",
   "metadata": {},
   "outputs": [
    {
     "name": "stdout",
     "output_type": "stream",
     "text": [
      "True\n",
      "[5, 2, 3]\n"
     ]
    }
   ],
   "source": [
    "a = [1,2,3]\n",
    "b = [1,2,3]\n",
    "\n",
    "b=a\n",
    "print(a is b)\n",
    "\n",
    "a[0] = 5\n",
    "print(b) # a becomes bound to b and vice-versa"
   ]
  },
  {
   "cell_type": "markdown",
   "id": "28c6cace",
   "metadata": {},
   "source": [
    "- In python, you can make clones of lists (or mutable objects) which are INDEPENDENT of each other, by using slicing:"
   ]
  },
  {
   "cell_type": "code",
   "execution_count": 19,
   "id": "4b304786",
   "metadata": {},
   "outputs": [
    {
     "name": "stdout",
     "output_type": "stream",
     "text": [
      "1948210305088\n",
      "1948210299584\n",
      "False\n",
      "\n",
      " [5, 1, 6]\n",
      "\n",
      " [5, 1, 6] \n",
      " [17, 1, 6]\n"
     ]
    }
   ],
   "source": [
    "a = [5,1,6]\n",
    "b = a[:]\n",
    "\n",
    "print(id(a))\n",
    "print(id(b))\n",
    "\n",
    "print(a is b)      ## b is NOT an alias for a, it refers to another list with the same contents.\n",
    "print(\"\\n\", b)  \n",
    "\n",
    "b[0]=17\n",
    "print(\"\\n\", a, \"\\n\", b)  ## b is independent of a, hence no effect on a."
   ]
  },
  {
   "cell_type": "markdown",
   "id": "708bda15",
   "metadata": {},
   "source": [
    "- To add elements to a list, we use the command .append() --- this always adds it at the end of the list\n",
    "\n",
    "\n",
    "- To add elements wherever you want in a list, we use .insert() which takes two values : The index, and the value to insert:"
   ]
  },
  {
   "cell_type": "code",
   "execution_count": 22,
   "id": "343fd033",
   "metadata": {},
   "outputs": [
    {
     "name": "stdout",
     "output_type": "stream",
     "text": [
      "[5, 18, 19, 42, 6]\n",
      "[5, 66, 18, 19, 42, 6]\n"
     ]
    }
   ],
   "source": [
    "lst = [5,18,19,42]\n",
    "lst.append(6)\n",
    "print(lst)\n",
    "\n",
    "lst.insert(1,66)\n",
    "print(lst)  # It inserts the value 66 on the 1st index. This does NOT REMOVE the pre-existing value on index 1, i.e. 18, but it pushes it up to the next index 2."
   ]
  },
  {
   "cell_type": "markdown",
   "id": "f7ebddd6",
   "metadata": {},
   "source": [
    "- To verify how many times an element features in a given list is given by .count():"
   ]
  },
  {
   "cell_type": "code",
   "execution_count": 26,
   "id": "55bbd5ba",
   "metadata": {},
   "outputs": [
    {
     "name": "stdout",
     "output_type": "stream",
     "text": [
      "3\n",
      "0\n"
     ]
    }
   ],
   "source": [
    "lst= [5,5,16,7,5]\n",
    "print(lst.count(5))\n",
    "\n",
    "print(lst.index(5))  # Gives the FIRST position where the input value is found.\n",
    "\n",
    "# print(lst.index(\"apple\")) ## Gives an error if the element does not feature in the list."
   ]
  },
  {
   "cell_type": "markdown",
   "id": "8fadc5d6",
   "metadata": {},
   "source": [
    "- To reverse the order of the items in a list, Python uses reverse():"
   ]
  },
  {
   "cell_type": "code",
   "execution_count": 29,
   "id": "1f863bde",
   "metadata": {},
   "outputs": [
    {
     "name": "stdout",
     "output_type": "stream",
     "text": [
      "[8, 7, 16]\n"
     ]
    }
   ],
   "source": [
    "lst = [16,7,8]\n",
    "lst.reverse()\n",
    "\n",
    "print(lst)  ## We're NOT COPYING the list, but changing it per se - by reversing."
   ]
  },
  {
   "cell_type": "markdown",
   "id": "92953c9b",
   "metadata": {},
   "source": [
    "- We also have the method 'sort', which by default sorts increasingly where applicable:"
   ]
  },
  {
   "cell_type": "code",
   "execution_count": 33,
   "id": "febdcab1",
   "metadata": {},
   "outputs": [
    {
     "name": "stdout",
     "output_type": "stream",
     "text": [
      "[1, 2, 8, 19]\n"
     ]
    }
   ],
   "source": [
    "lst = [2,1,8,19]\n",
    "lst.sort()\n",
    "print(lst)"
   ]
  },
  {
   "cell_type": "markdown",
   "id": "9b6ae20e",
   "metadata": {},
   "source": [
    "- The remove command is different from del, since it targets specific values rather than indices. Once again, like index, only the first appearance is deleted."
   ]
  },
  {
   "cell_type": "code",
   "execution_count": 34,
   "id": "fea19d70",
   "metadata": {},
   "outputs": [
    {
     "name": "stdout",
     "output_type": "stream",
     "text": [
      "[5, 9, 15, 6, 5, 9, 2]\n"
     ]
    }
   ],
   "source": [
    "lst = [5,5,9,15,6,5,9,2]\n",
    "lst.remove(5)\n",
    "print(lst)"
   ]
  },
  {
   "cell_type": "markdown",
   "id": "f2d3d8f8",
   "metadata": {},
   "source": [
    "In short:\n",
    "\n",
    "**del** = Specify a position/index\n",
    "\n",
    "**remove** = Specify an item/value. It removes the first entry of that value.\n",
    "\n",
    "**pop** = Specifically removes the LAST item from a list."
   ]
  },
  {
   "cell_type": "code",
   "execution_count": 35,
   "id": "0cb9648a",
   "metadata": {},
   "outputs": [
    {
     "name": "stdout",
     "output_type": "stream",
     "text": [
      "3 \n",
      " [5, 8, 14, 9]\n"
     ]
    }
   ],
   "source": [
    "lst = [5,8,14,9,3]\n",
    "last = lst.pop()\n",
    "print(last, \"\\n\", lst)"
   ]
  },
  {
   "attachments": {
    "image.png": {
     "image/png": "[encoded data removed]"
    }
   },
   "cell_type": "markdown",
   "id": "cc013146",
   "metadata": {},
   "source": [
    "![image.png](attachment:image.png)"
   ]
  },
  {
   "cell_type": "markdown",
   "id": "6f1273ae",
   "metadata": {},
   "source": [
    "- The above represent mutating methods on lists."
   ]
  },
  {
   "cell_type": "markdown",
   "id": "8b06abc7",
   "metadata": {},
   "source": [
    "- The alternative to append() is to concatenate using the + operation. However, this has implications on mutability.\n",
    "\n",
    "- However, you can ONLY concatenate same types of variables. For instance, you cannot concatenate list + integer."
   ]
  },
  {
   "cell_type": "code",
   "execution_count": 39,
   "id": "a4e55500",
   "metadata": {},
   "outputs": [
    {
     "name": "stdout",
     "output_type": "stream",
     "text": [
      "[1, 2, 8, 999] \n",
      " [1, 2, 8, 999]\n"
     ]
    }
   ],
   "source": [
    "lst = [1,2,8]\n",
    "# l = lst + 999   ## This would error\n",
    "l = lst + [999]   ## This works, since we're concatenating 2 lists.\n",
    "lst.append(999)\n",
    "print(l, \"\\n\", lst)"
   ]
  },
  {
   "cell_type": "markdown",
   "id": "2adbf13d",
   "metadata": {},
   "source": [
    "- There are non-mutating methods to be applied on strings/tuples:"
   ]
  },
  {
   "cell_type": "markdown",
   "id": "3c41f8fe",
   "metadata": {},
   "source": [
    "- The functions upper() and lower() indicate uppercase v.s lowercase instances of the string provided:"
   ]
  },
  {
   "cell_type": "code",
   "execution_count": 43,
   "id": "6fe81e6d",
   "metadata": {},
   "outputs": [
    {
     "name": "stdout",
     "output_type": "stream",
     "text": [
      "HELLO THERE!\n",
      "hello there!\n"
     ]
    }
   ],
   "source": [
    "st = \"Hello There!\"\n",
    "print(st.upper())\n",
    "print(st.lower())  ## Integers, special characters etc. are not affected by the process."
   ]
  },
  {
   "cell_type": "markdown",
   "id": "96d710ca",
   "metadata": {},
   "source": [
    "- The function count() works similarly as it did with the lists examples:"
   ]
  },
  {
   "cell_type": "code",
   "execution_count": 44,
   "id": "d3fc6bbf",
   "metadata": {},
   "outputs": [
    {
     "data": {
      "text/plain": [
       "2"
      ]
     },
     "execution_count": 44,
     "metadata": {},
     "output_type": "execute_result"
    }
   ],
   "source": [
    "st = \"Hello there!\"\n",
    "st.count('l')"
   ]
  },
  {
   "cell_type": "markdown",
   "id": "ed0080a5",
   "metadata": {},
   "source": [
    "- The method strip() gets rid of any white spaces at the BEGINNING or at the END of the string, but NOT IN THE MIDDLE -- and it removes those:"
   ]
  },
  {
   "cell_type": "code",
   "execution_count": 45,
   "id": "7dcc122e",
   "metadata": {},
   "outputs": [
    {
     "name": "stdout",
     "output_type": "stream",
     "text": [
      "    Hiiii          \n",
      "Hiiii\n"
     ]
    }
   ],
   "source": [
    "st = \"    Hiiii          \"\n",
    "print(st)\n",
    "\n",
    "print(st.strip())"
   ]
  },
  {
   "cell_type": "markdown",
   "id": "add77114",
   "metadata": {},
   "source": [
    "- The method replace is Python's equivalent for R's sub() FUN:"
   ]
  },
  {
   "cell_type": "code",
   "execution_count": 47,
   "id": "ae776762",
   "metadata": {},
   "outputs": [
    {
     "data": {
      "text/plain": [
       "'Hezzo there, zady!'"
      ]
     },
     "execution_count": 47,
     "metadata": {},
     "output_type": "execute_result"
    }
   ],
   "source": [
    "st = \"Hello there, lady!\"\n",
    "st.replace('l', 'z')  ## Takes 2 parameters: The substring to be replaced and its replacement."
   ]
  },
  {
   "attachments": {
    "image.png": {
     "image/png": "[encoded data removed]"
    }
   },
   "cell_type": "markdown",
   "id": "cb637c5e",
   "metadata": {},
   "source": [
    "![image.png](attachment:image.png)"
   ]
  },
  {
   "cell_type": "markdown",
   "id": "831038d0",
   "metadata": {},
   "source": [
    "- To input soft-coded elements inside a statement, Python uses the format() method for strings especially:"
   ]
  },
  {
   "cell_type": "code",
   "execution_count": 2,
   "id": "f18eedbe",
   "metadata": {},
   "outputs": [
    {
     "name": "stdout",
     "output_type": "stream",
     "text": [
      "Hi A! Your score is 5.\n",
      "Hi B! Your score is 7.\n",
      "Hi C! Your score is 6.\n"
     ]
    }
   ],
   "source": [
    "scores = [('A', 5), ('B', 7), ('C', 6)]\n",
    "for person in scores:\n",
    "    score = person[1]\n",
    "    ppl = person[0]\n",
    "    print(\"Hi {}! Your score is {}.\".format(ppl, score))  ## Format() works in the order that it's been assigned."
   ]
  },
  {
   "cell_type": "markdown",
   "id": "63ac2ede",
   "metadata": {},
   "source": [
    "- When using format, we can also determine a couple of indicators within the {}, such as :.2f -- which determines a floating pointer up to 2 decimal points. Instead, :.3f will return 3 decimal points and so on.\n",
    "\n",
    "    _Note_: This method also implicitly performs rounding, i.e. {:.2f} of x = 2.3454534 will return 2.35, NOT 2.34!!"
   ]
  },
  {
   "cell_type": "markdown",
   "id": "5bcf7b5d",
   "metadata": {},
   "source": [
    "- To actually have braces inside your string, since {} is default set for formatting, we use double braces: \\{\\{ and \\}\\}"
   ]
  },
  {
   "cell_type": "code",
   "execution_count": null,
   "id": "0bff9861",
   "metadata": {},
   "outputs": [],
   "source": []
  }
 ],
 "metadata": {
  "kernelspec": {
   "display_name": "Python 3",
   "language": "python",
   "name": "python3"
  },
  "language_info": {
   "codemirror_mode": {
    "name": "ipython",
    "version": 3
   },
   "file_extension": ".py",
   "mimetype": "text/x-python",
   "name": "python",
   "nbconvert_exporter": "python",
   "pygments_lexer": "ipython3",
   "version": "3.8.8"
  }
 },
 "nbformat": 4,
 "nbformat_minor": 5
}
